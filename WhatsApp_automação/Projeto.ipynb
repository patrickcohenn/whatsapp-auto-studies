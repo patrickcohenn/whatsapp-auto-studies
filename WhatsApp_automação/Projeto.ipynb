{
 "cells": [
  {
   "cell_type": "code",
   "execution_count": null,
   "metadata": {},
   "outputs": [],
   "source": [
    "#Automação de encaminhamento de mensagens no Whatsapp\n",
    "#Usando a funcionalidade nativa do whatsapp de encaminhar mensagem \n",
    "#Encaminhar de 5 em 5 mensagens \n",
    "\n",
    "#utlizar o xpath quando tem somente um elemento e class name quando tenho que especificar um elemento."
   ]
  },
  {
   "cell_type": "code",
   "execution_count": 7,
   "metadata": {},
   "outputs": [],
   "source": [
    "from selenium import webdriver\n",
    "from selenium.webdriver.chrome.service import Service\n",
    "from webdriver_manager.chrome import ChromeDriverManager\n",
    "import time\n",
    "service = Service(ChromeDriverManager().install())\n",
    "nav = webdriver.Chrome(service=service)\n",
    "nav.get(\"https://web.whatsapp.com\")\n",
    "time(3600)"
   ]
  },
  {
   "cell_type": "markdown",
   "metadata": {},
   "source": []
  },
  {
   "cell_type": "code",
   "execution_count": 27,
   "metadata": {},
   "outputs": [],
   "source": [
    "from selenium.webdriver.common.keys import Keys\n",
    "import pyperclip\n",
    "import time\n",
    "\n",
    "mensagem = \"\"\"Fala Galera! \n",
    "Se inscreve no canal da Xnerd, os caras são!!\n",
    "\"\"\"\n",
    "\n",
    "lista_contatos=[\"Post xnerd\", \"Niver da fefe\",\"Patrick Cohenn Resende Marques Fernandes\",\"Trabalho mag\", \"Motores (Prova dia 27)\", \"Cozinha Fácil\"]\n",
    "\n",
    "#1º passo: Enviar a mensagem para o meu numero para poder depois encaminahr\n",
    "#   -Clicar na lupa\n",
    "nav.find_element('xpath', '//*[@id=\"side\"]/div[1]/div/div/button/div[2]/span').click() #Usar semore aspa simples ' melhora o codigo. Indo até a lupa e clickar.\n",
    "time.sleep(2)\n",
    "\n",
    "#   -Escrever meu numero 'Patrick Cohenn Resende Marques Fernandes'\n",
    "nav.find_element('xpath', '//*[@id=\"side\"]/div[1]/div/div/div[2]/div/div[1]/p').send_keys(\"Post xnerd\") #Digitar o nome do grupo ou numero que vou acessar\n",
    "time.sleep(5)\n",
    "\n",
    "#   -Dar um enter\n",
    "nav.find_element('xpath', '//*[@id=\"side\"]/div[1]/div/div/div[2]/div/div[1]/p').send_keys(Keys.ENTER) #Tenho que importar um biblio para que importe uma tecla. keys.ENTER ou keys.HOME (DESTE MODO TUDO EM CAIXA ALTA)\n",
    "time.sleep(3)\n",
    "\n",
    "#   -Escrever a mensagem para nós mesmo\n",
    "pyperclip.copy(mensagem)\n",
    "nav.find_element('xpath', '//*[@id=\"main\"]/footer/div[1]/div/span[2]/div/div[2]/div[1]/div/div[1]/p').send_keys(Keys.CONTROL + \"v\")\n",
    "time.sleep(2)\n",
    "nav.find_element('xpath', '//*[@id=\"main\"]/footer/div[1]/div/span[2]/div/div[2]/div[1]/div/div[1]/p').send_keys(Keys.ENTER)\n",
    "time.sleep(1)"
   ]
  },
  {
   "cell_type": "code",
   "execution_count": 23,
   "metadata": {},
   "outputs": [],
   "source": [
    "import time\n",
    "\n",
    "#2º passo: Encaminhar a mensagme para a lista de contatos\n",
    "from selenium.webdriver.common.action_chains import ActionChains #Ação no navegador\n",
    "\n"
   ]
  },
  {
   "cell_type": "code",
   "execution_count": 30,
   "metadata": {},
   "outputs": [],
   "source": [
    "from selenium.webdriver.common.action_chains import ActionChains #Ação no navegador\n",
    "\n",
    "qtde_contatos = len(lista_contatos)\n",
    "\n",
    "#Limitando os tanto de contato para 5 de cada vez \n",
    "#Determinado a quantidad de bloco.\n",
    "#Criando um Se para saber se vai ser um numero multiplo de 5 ou não a quantidade bloco.\n",
    "if qtde_contatos % 5 == 0:\n",
    "    qtd_blocos = qtde_contatos / 5\n",
    "else:\n",
    "    qtd_blocos = int(qtde_contatos / 5) + 1\n",
    "\n",
    "#Criando um for(para) que vai contar a quantidade bloco que via rodar. \n",
    "for i in range (qtd_blocos):\n",
    "    i_inicial = i * 5 #2*5=10\n",
    "    i_final = ( i + 1 ) * 5  #3*5=15\n",
    "    lista_enviar = lista_contatos[i_inicial:i_final]\n",
    "    \n",
    "    #Agora vou mover o mouse para o ponto onde quero.\n",
    "    lista_elementos = nav.find_elements('class name', '_2AOIt')\n",
    "\n",
    "    #Selecionando  todos os elementos e verificando se estão qual quero selecionar.\n",
    "    for item in lista_elementos:\n",
    "        mensagem = mensagem.replace(\"\\n\", \"\")\n",
    "        texto = item.text.replace(\"\\n\", \"\")\n",
    "        if mensagem in texto:\n",
    "            elemento = item\n",
    "\n",
    "    #movendo pelo elemento que quero especifico\n",
    "    #Seleciona a mensagem que quero encaminhar e abre a ciaxa de encaminhar\n",
    "    ActionChains(nav).move_to_element(elemento).perform()\n",
    "    elemento.find_element('class name', '_3u9t-').click()\n",
    "    time.sleep(0.4)\n",
    "    #Seleciona para o elemento que precisa.\n",
    "    nav.find_element('xpath', '//*[@id=\"app\"]/div/span[4]/div/ul/div/li[4]/div').click()\n",
    "    time.sleep(0.8)\n",
    "    nav.find_element('xpath', '//*[@id=\"main\"]/span[2]/div/button[4]/span').click()\n",
    "    time.sleep(2.5)\n",
    "    \n",
    "    #criando um For para selecionar os nomes.\n",
    "    #Aqui escrvo o 5 contato que quero encaminhar as mensagens e envio. \n",
    "    for nome in lista_enviar:\n",
    "        #Escrever o nome do contato \n",
    "        nav.find_element('xpath', '//*[@id=\"app\"]/div/span[2]/div/div/div/div/div/div/div/div[1]/div/div/div[2]/div/div[1]/p').send_keys(nome)\n",
    "        time.sleep(1.2)\n",
    "        #Dar enter\n",
    "        nav.find_element('xpath', '//*[@id=\"app\"]/div/span[2]/div/div/div/div/div/div/div/div[1]/div/div/div[2]/div/div[1]/p').send_keys(Keys.ENTER)\n",
    "        time.sleep(0.6)\n",
    "        #Apagar o nome do contato.\n",
    "        nav.find_element('xpath', '//*[@id=\"app\"]/div/span[2]/div/div/div/div/div/div/div/div[1]/div/div/div[2]/div/div[1]/p').send_keys(Keys.BACKSPACE)\n",
    "        time.sleep(0.9)\n",
    "        \n",
    "    nav.find_element('xpath', '//*[@id=\"app\"]/div/span[2]/div/div/div/div/div/div/div/span/div/div/div/span').click()\n",
    "        \n",
    "    time.sleep(10)"
   ]
  }
 ],
 "metadata": {
  "kernelspec": {
   "display_name": "Python 3",
   "language": "python",
   "name": "python3"
  },
  "language_info": {
   "codemirror_mode": {
    "name": "ipython",
    "version": 3
   },
   "file_extension": ".py",
   "mimetype": "text/x-python",
   "name": "python",
   "nbconvert_exporter": "python",
   "pygments_lexer": "ipython3",
   "version": "3.11.4"
  },
  "orig_nbformat": 4
 },
 "nbformat": 4,
 "nbformat_minor": 2
}
